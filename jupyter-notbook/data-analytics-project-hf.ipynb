{
 "cells": [
  {
   "cell_type": "code",
   "execution_count": 2,
   "id": "eca04f25-212e-4416-9244-04c533adc145",
   "metadata": {},
   "outputs": [],
   "source": [
    "from fastapi import Request, FastAPI, Response\n",
    "from typing import Any, Dict, AnyStr, List\n",
    "from datetime import datetime\n",
    "from bson import json_util\n",
    "import numpy as np\n",
    "import pandas as pd\n",
    "import requests\n",
    "import json\n",
    "from scipy.stats import norm\n",
    "import matplotlib.pyplot as plt\n",
    "from sklearn.tree import DecisionTreeClassifier\n",
    "from sklearn.model_selection import GridSearchCV, KFold, cross_val_score, RepeatedStratifiedKFold\n",
    "from sklearn.multiclass import (\n",
    "    OneVsOneClassifier,\n",
    "    OneVsRestClassifier,\n",
    "    OutputCodeClassifier,\n",
    ")\n",
    "from sklearn import metrics\n",
    "from sklearn.ensemble import  RandomForestRegressor\n",
    "from sklearn.model_selection import train_test_split\n",
    "from sklearn.linear_model import LinearRegression\n",
    "from sklearn.metrics import accuracy_score\n",
    "import matplotlib.pyplot as plt\n",
    "from sklearn.cluster import KMeans\n",
    "import seaborn as sns"
   ]
  },
  {
   "cell_type": "code",
   "execution_count": 3,
   "id": "bff525d4-f769-401c-b445-581f914f24d5",
   "metadata": {},
   "outputs": [],
   "source": [
    "header={'Content-Type': 'application/json',\n",
    "      'api-key': 'api-key_bb93997d9f18e0d4cf8117d4'}"
   ]
  },
  {
   "cell_type": "code",
   "execution_count": 10,
   "id": "1ff705cf-f006-4f34-9452-7ae8d705f931",
   "metadata": {},
   "outputs": [],
   "source": [
    "url = 'http://127.0.0.1:8000/analyse/data_analyse'\n",
    "doc =  requests.get(url)\n",
    "doc = doc.json()\n"
   ]
  },
  {
   "cell_type": "code",
   "execution_count": 9,
   "id": "e4ec446f-b22c-44ec-bbda-81bc8ed421e8",
   "metadata": {},
   "outputs": [
    {
     "name": "stdout",
     "output_type": "stream",
     "text": [
      "{'detail': \"SSL handshake failed: ac-o7wmkxu-shard-00-01.gvmrr57.mongodb.net:27017: [SSL: TLSV1_ALERT_INTERNAL_ERROR] tlsv1 alert internal error (_ssl.c:1000) (configured timeouts: socketTimeoutMS: 20000.0ms, connectTimeoutMS: 20000.0ms),SSL handshake failed: ac-o7wmkxu-shard-00-02.gvmrr57.mongodb.net:27017: [SSL: TLSV1_ALERT_INTERNAL_ERROR] tlsv1 alert internal error (_ssl.c:1000) (configured timeouts: socketTimeoutMS: 20000.0ms, connectTimeoutMS: 20000.0ms),SSL handshake failed: ac-o7wmkxu-shard-00-00.gvmrr57.mongodb.net:27017: [SSL: TLSV1_ALERT_INTERNAL_ERROR] tlsv1 alert internal error (_ssl.c:1000) (configured timeouts: socketTimeoutMS: 20000.0ms, connectTimeoutMS: 20000.0ms), Timeout: 30s, Topology Description: <TopologyDescription id: 664216cc1e6520ee9c89720d, topology_type: ReplicaSetNoPrimary, servers: [<ServerDescription ('ac-o7wmkxu-shard-00-00.gvmrr57.mongodb.net', 27017) server_type: Unknown, rtt: None, error=AutoReconnect('SSL handshake failed: ac-o7wmkxu-shard-00-00.gvmrr57.mongodb.net:27017: [SSL: TLSV1_ALERT_INTERNAL_ERROR] tlsv1 alert internal error (_ssl.c:1000) (configured timeouts: socketTimeoutMS: 20000.0ms, connectTimeoutMS: 20000.0ms)')>, <ServerDescription ('ac-o7wmkxu-shard-00-01.gvmrr57.mongodb.net', 27017) server_type: Unknown, rtt: None, error=AutoReconnect('SSL handshake failed: ac-o7wmkxu-shard-00-01.gvmrr57.mongodb.net:27017: [SSL: TLSV1_ALERT_INTERNAL_ERROR] tlsv1 alert internal error (_ssl.c:1000) (configured timeouts: socketTimeoutMS: 20000.0ms, connectTimeoutMS: 20000.0ms)')>, <ServerDescription ('ac-o7wmkxu-shard-00-02.gvmrr57.mongodb.net', 27017) server_type: Unknown, rtt: None, error=AutoReconnect('SSL handshake failed: ac-o7wmkxu-shard-00-02.gvmrr57.mongodb.net:27017: [SSL: TLSV1_ALERT_INTERNAL_ERROR] tlsv1 alert internal error (_ssl.c:1000) (configured timeouts: socketTimeoutMS: 20000.0ms, connectTimeoutMS: 20000.0ms)')>]>\"}\n"
     ]
    }
   ],
   "source": [
    "print(doc)"
   ]
  },
  {
   "cell_type": "code",
   "execution_count": null,
   "id": "50fbef07-6dca-4518-8c11-ea3363dce840",
   "metadata": {},
   "outputs": [],
   "source": [
    "data_f = json_util.dumps(doc) \n",
    "data = pd.read_json(data_f)"
   ]
  },
  {
   "cell_type": "code",
   "execution_count": null,
   "id": "f52bbb24-27db-4c58-b768-abc5569f7eda",
   "metadata": {},
   "outputs": [],
   "source": [
    "data.head(9)"
   ]
  },
  {
   "cell_type": "markdown",
   "id": "e2455080-ece1-458f-b559-b1910432abbc",
   "metadata": {},
   "source": [
    "## Tratamento de Dados "
   ]
  },
  {
   "cell_type": "code",
   "execution_count": null,
   "id": "65e0615b-c0f1-45de-b319-79ee8211f73f",
   "metadata": {},
   "outputs": [],
   "source": [
    "data.info()"
   ]
  },
  {
   "cell_type": "code",
   "execution_count": null,
   "id": "e4130dc6-8ca7-4fc3-b479-812469fb32e9",
   "metadata": {},
   "outputs": [],
   "source": [
    "data.drop([\"_id\"], axis=1, inplace=True)"
   ]
  },
  {
   "cell_type": "code",
   "execution_count": null,
   "id": "63d8b163-d290-4bb9-85b3-7c02f1b17416",
   "metadata": {},
   "outputs": [],
   "source": [
    "data.isnull().sum()"
   ]
  },
  {
   "cell_type": "code",
   "execution_count": null,
   "id": "7f2e7a47-71fc-43ca-9669-c77b550fb6bc",
   "metadata": {},
   "outputs": [],
   "source": [
    "data.columns"
   ]
  },
  {
   "cell_type": "markdown",
   "id": "60beb779-328a-4d10-8c7f-1dfc309be051",
   "metadata": {},
   "source": [
    "## Visualização dos Dados "
   ]
  },
  {
   "cell_type": "code",
   "execution_count": null,
   "id": "a2019018-1f6a-48b5-ac75-66da6b6ca009",
   "metadata": {},
   "outputs": [],
   "source": [
    "plt.figure(figsize=(11,5))\n",
    "plt.bar(data.time, data.heartbeat, label='Frequência cardiáca', color='blue')\n",
    "plt.ylabel('Frequência cardiáca')                     \n",
    "plt.xlabel('tempo de coleta de dados (hora/minuto)')                   \n",
    "plt.legend()\n",
    "plt.show()"
   ]
  },
  {
   "cell_type": "code",
   "execution_count": null,
   "id": "7f5d5545-ff7b-49ad-8059-673d4f427e6e",
   "metadata": {},
   "outputs": [],
   "source": [
    "x = 'x-axis'\n",
    "y = 'y-axis'\n",
    "z = 'z-axis'\n",
    "\n",
    "sns.distplot(data.X, label=x,  hist=False, kde=True)\n",
    "sns.distplot(data.Y, label=y,  hist=False, kde=True)\n",
    "sns.distplot(data.Z, label=z,  hist=False, kde=True)\n",
    "plt.xlabel('movements')\n",
    "plt.ylabel('gravity force')\n",
    "plt.legend()\n",
    "\n",
    "plt.show()"
   ]
  },
  {
   "cell_type": "code",
   "execution_count": null,
   "id": "142c893a-8d92-4475-8189-4941b4f8ced7",
   "metadata": {},
   "outputs": [],
   "source": [
    "scores = data.DataFrame(\n",
    "    {\n",
    "        \"DecisionTreeClassifier\": cv_results_tree[\"test_score\"],\n",
    "        \"OneVsOneClassifier\": cv_results_ovo[\"test_score\"],\n",
    "        \"OneVsRestClassifier\": cv_results_ovr[\"test_score\"],\n",
    "        \"OutputCodeClassifier\": cv_results_ecoc[\"test_score\"],\n",
    "    }\n",
    ")\n",
    "ax = scores.plot.kde(legend=True)\n",
    "ax.set_xlabel(\"Accuracy score\")\n",
    "ax.set_xlim([0, 0.7])\n",
    "_ = ax.set_title(\n",
    "    \"Density of the accuracy scores for the different multiclass strategies\"\n",
    ")"
   ]
  },
  {
   "cell_type": "markdown",
   "id": "c1abb7b9-abab-4154-8708-e3c43d9455d2",
   "metadata": {},
   "source": [
    "### Treinamento e Teste"
   ]
  },
  {
   "cell_type": "code",
   "execution_count": null,
   "id": "555edcb3-54f5-4a3c-9e5b-beec60c85462",
   "metadata": {},
   "outputs": [],
   "source": [
    "X = data.time\n",
    "y = data['heartbeat']\n",
    "target = y\n",
    "\n",
    "X_train, X_test, y_train, y_test = train_test_split(X, y, test_size=0.2, shuffle=True, random_state=0)\n",
    "\n",
    "lr = LinearRegression()\n",
    "tr = lr.fit(X_train, y_train)"
   ]
  },
  {
   "cell_type": "code",
   "execution_count": null,
   "id": "9c26391e-2849-4059-80c6-ab4310e35d67",
   "metadata": {},
   "outputs": [],
   "source": [
    "print(f'''Tamanho dataset: {data.shape[0]},\n",
    "Tamanho treino: {X_train.shape[0]},\n",
    "Tamanho teste: {X_test.shape[0]}.'''"
   ]
  },
  {
   "cell_type": "markdown",
   "id": "99a26ac2-d758-41e9-8743-44a612ee8ea4",
   "metadata": {},
   "source": [
    "### Arvore de Decisão "
   ]
  },
  {
   "cell_type": "code",
   "execution_count": null,
   "id": "e6413f4f-a878-4ff0-9a1b-93011453e228",
   "metadata": {},
   "outputs": [],
   "source": [
    "clf = tree.DecisionTreeClassifier(criterion='entropy', random_state=1, max_depth=3)\n",
    "\n",
    "clf.fit(X_train, y_train)\n",
    "clf.score(X_train, y_train)"
   ]
  },
  {
   "cell_type": "code",
   "execution_count": null,
   "id": "8de7893d-b83f-4682-9783-37d00b492555",
   "metadata": {},
   "outputs": [],
   "source": [
    "fig, ax = plt.subplots(figsize=(10,8))\n",
    "tree.plot_tree(clf)\n",
    "plt.show()"
   ]
  },
  {
   "cell_type": "code",
   "execution_count": null,
   "id": "d94915bf-b5f1-435c-843a-8350077a97bf",
   "metadata": {},
   "outputs": [],
   "source": [
    "pred = classificador.predict(columns_teste)\n",
    "print(f'Predição: {pred[0:5]}',end='\\n\\n')\n",
    "\n",
    "acuracia = metrics.accuracy_score(pred, target_teste)\n",
    "print(f'A acurácia é de {acuracia}')"
   ]
  },
  {
   "cell_type": "markdown",
   "id": "4ca203d2-252d-4dd7-8a74-a94255634f65",
   "metadata": {},
   "source": [
    "### Regressão Linear"
   ]
  },
  {
   "cell_type": "code",
   "execution_count": null,
   "id": "8ed580ce-97ac-4f30-8c4f-3f81d8c07356",
   "metadata": {},
   "outputs": [],
   "source": [
    "lr = LinearRegression()\n",
    "tr = lr.fit(X_train, y_train)"
   ]
  },
  {
   "cell_type": "code",
   "execution_count": null,
   "id": "9da11450-cab6-46c9-aaa8-bb18e69348f1",
   "metadata": {},
   "outputs": [],
   "source": [
    "pred = classificador.predict(columns_teste)\n",
    "print(f'Predição: {pred[0:5]}',end='\\n\\n')\n",
    "\n",
    "acuracia = metrics.accuracy_score(pred, target_teste)\n",
    "print(f'A acurácia é de {acuracia}')"
   ]
  },
  {
   "cell_type": "markdown",
   "id": "4fc69e8e-ad86-4504-b35f-a704edf28bf6",
   "metadata": {},
   "source": [
    "### KNN"
   ]
  },
  {
   "cell_type": "code",
   "execution_count": null,
   "id": "db280b2f-2be7-46c7-b961-bb347c451e6e",
   "metadata": {},
   "outputs": [],
   "source": []
  },
  {
   "cell_type": "markdown",
   "id": "a9631699-4fd0-444f-9c1f-06dda91bf4a2",
   "metadata": {},
   "source": [
    "### Regressão Logística"
   ]
  },
  {
   "cell_type": "code",
   "execution_count": null,
   "id": "23dafbdd-65b0-4a7f-a7d2-4e3e82f26246",
   "metadata": {},
   "outputs": [],
   "source": []
  },
  {
   "cell_type": "markdown",
   "id": "db23eca5-a16e-4e2d-a7f8-e4343aa898d7",
   "metadata": {},
   "source": [
    "###  LightGBM"
   ]
  },
  {
   "cell_type": "code",
   "execution_count": null,
   "id": "d726056f-8d6c-4a77-a57c-eff213def26d",
   "metadata": {},
   "outputs": [],
   "source": []
  },
  {
   "cell_type": "markdown",
   "id": "72254d26-6ad3-452a-b81f-6f676a661d92",
   "metadata": {},
   "source": [
    "### Máquina de Vetores de Suporte "
   ]
  },
  {
   "cell_type": "code",
   "execution_count": null,
   "id": "266abc37-36f0-48cc-b8ec-85e82b982a29",
   "metadata": {},
   "outputs": [],
   "source": []
  },
  {
   "cell_type": "markdown",
   "id": "dd9f09b4-e161-4dad-846a-39656f212a29",
   "metadata": {},
   "source": [
    "### Matriz de Correlação "
   ]
  }
 ],
 "metadata": {
  "kernelspec": {
   "display_name": "Python 3 (ipykernel)",
   "language": "python",
   "name": "python3"
  },
  "language_info": {
   "codemirror_mode": {
    "name": "ipython",
    "version": 3
   },
   "file_extension": ".py",
   "mimetype": "text/x-python",
   "name": "python",
   "nbconvert_exporter": "python",
   "pygments_lexer": "ipython3",
   "version": "3.12.1"
  }
 },
 "nbformat": 4,
 "nbformat_minor": 5
}
