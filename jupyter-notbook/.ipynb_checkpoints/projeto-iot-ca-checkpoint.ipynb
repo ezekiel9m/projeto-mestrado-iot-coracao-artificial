{
 "cells": [
  {
   "cell_type": "code",
   "execution_count": 216,
   "id": "f2e19845-b723-4ab7-b0d8-b88f90b6db7f",
   "metadata": {},
   "outputs": [],
   "source": [
    "from fastapi import Request, FastAPI, Response\n",
    "from typing import Any, Dict, AnyStr, List\n",
    "from datetime import datetime\n",
    "from bson import json_util\n",
    "import numpy as np\n",
    "import pandas as pd\n",
    "import requests\n",
    "import json"
   ]
  },
  {
   "cell_type": "code",
   "execution_count": 23,
   "id": "5aee7820-dd87-41e1-ba38-92847bf43da4",
   "metadata": {},
   "outputs": [],
   "source": [
    "header={'Content-Type': 'application/json',\n",
    "      'api-key': 'api-key_bb93997d9f18e0d4cf8117d4'}"
   ]
  },
  {
   "cell_type": "code",
   "execution_count": 227,
   "id": "3db3951d-53c8-410d-bf00-a16dc7e3945c",
   "metadata": {},
   "outputs": [],
   "source": [
    "url = 'http://127.0.0.1:8000/analyse/data_analyse'\n",
    "doc =  requests.get(url)\n",
    "doc = doc.json()"
   ]
  },
  {
   "cell_type": "code",
   "execution_count": 228,
   "id": "cd0bb285-4e07-4415-926d-2468f8f27227",
   "metadata": {
    "scrolled": true
   },
   "outputs": [
    {
     "name": "stdout",
     "output_type": "stream",
     "text": [
      "[{'_id': '6598d091733511a437f20641', 'identifier': 5893643, 'heartbeat': 104, 'X': 123, 'Y': 82, 'Z': 567, 'date': '2023-12-11', 'time': '11:54:35'}, {'_id': '6598d091733511a437f20641', 'identifier': 5893643, 'heartbeat': 167, 'X': 154, 'Y': 79, 'Z': 81, 'date': '2023-11-29', 'time': '20:56:35'}, {'_id': '6599472ba471deb267152110', 'identifier': 5893643, 'heartbeat': 104, 'X': 123, 'Y': 82, 'Z': 567, 'date': '2023-12-11', 'time': '11:54:35'}, {'_id': '6599472ba471deb267152110', 'identifier': 5893643, 'heartbeat': 167, 'X': 154, 'Y': 79, 'Z': 81, 'date': '2023-11-29', 'time': '20:56:35'}, {'_id': '65994767a471deb267152111', 'identifier': 5893643, 'heartbeat': 104, 'X': 145, 'Y': 87, 'Z': 90, 'date': '2023-12-11', 'time': '11:54:35'}, {'_id': '65994767a471deb267152111', 'identifier': 5893643, 'heartbeat': 161, 'X': 14, 'Y': 29, 'Z': 80, 'date': '2023-11-29', 'time': '20:56:35'}, {'_id': '65994767a471deb267152111', 'identifier': 5893643, 'heartbeat': 185, 'X': 155, 'Y': 90, 'Z': 75, 'date': '2023-11-29', 'time': '20:56:35'}, {'_id': '659ea460584bf7dd7cf2da5a', 'identifier': 5893643, 'heartbeat': 109, 'X': 144, 'Y': 81, 'Z': 91, 'date': '2023-12-11', 'time': '11:54:35'}, {'_id': '659ea460584bf7dd7cf2da5a', 'identifier': 5893643, 'heartbeat': 160, 'X': 143, 'Y': 292, 'Z': 88, 'date': '2023-11-29', 'time': '20:56:35'}, {'_id': '659ea460584bf7dd7cf2da5a', 'identifier': 5893643, 'heartbeat': 184, 'X': 16, 'Y': 99, 'Z': 70, 'date': '2023-11-29', 'time': '20:56:35'}, {'_id': '659ea47f584bf7dd7cf2da5b', 'identifier': 5893643, 'heartbeat': 109, 'X': 144, 'Y': 81, 'Z': 91, 'date': '2023-12-11', 'time': '11:54:35'}, {'_id': '659ea47f584bf7dd7cf2da5b', 'identifier': 5893643, 'heartbeat': 160, 'X': 143, 'Y': 292, 'Z': 88, 'date': '2023-11-29', 'time': '20:56:35'}, {'_id': '659ea47f584bf7dd7cf2da5b', 'identifier': 5893643, 'heartbeat': 184, 'X': 16, 'Y': 99, 'Z': 70, 'date': '2023-11-29', 'time': '20:56:35'}, {'_id': '659ea49c584bf7dd7cf2da5c', 'identifier': 5550911, 'heartbeat': 109, 'X': 144, 'Y': 81, 'Z': 91, 'date': '2023-12-11', 'time': '11:54:35'}, {'_id': '659ea49c584bf7dd7cf2da5c', 'identifier': 5550911, 'heartbeat': 160, 'X': 143, 'Y': 292, 'Z': 88, 'date': '2023-11-29', 'time': '20:56:35'}, {'_id': '659ea49c584bf7dd7cf2da5c', 'identifier': 5550911, 'heartbeat': 184, 'X': 16, 'Y': 99, 'Z': 70, 'date': '2023-11-29', 'time': '20:56:35'}, {'_id': '659ea4ae584bf7dd7cf2da5d', 'identifier': 8673359, 'heartbeat': 109, 'X': 144, 'Y': 81, 'Z': 91, 'date': '2023-12-11', 'time': '11:54:35'}, {'_id': '659ea4ae584bf7dd7cf2da5d', 'identifier': 8673359, 'heartbeat': 160, 'X': 143, 'Y': 292, 'Z': 88, 'date': '2023-11-29', 'time': '20:56:35'}, {'_id': '659ea4ae584bf7dd7cf2da5d', 'identifier': 8673359, 'heartbeat': 184, 'X': 16, 'Y': 99, 'Z': 70, 'date': '2023-11-29', 'time': '20:56:35'}, {'_id': '65c9091931d9749f559698be', 'identifier': 8673359, 'heartbeat': 88, 'X': 110, 'Y': 100, 'Z': 97, 'date': '2024-01-11', 'time': '11:54:35'}, {'_id': '65c9091931d9749f559698be', 'identifier': 8673359, 'heartbeat': 70, 'X': 145, 'Y': 291, 'Z': 89, 'date': '2024-01-11', 'time': '20:56:35'}, {'_id': '65c9091931d9749f559698be', 'identifier': 8673359, 'heartbeat': 98, 'X': 187, 'Y': 110, 'Z': 79, 'date': '2024-01-11', 'time': '20:56:35'}, {'_id': '65c9091931d9749f559698be', 'identifier': 8673359, 'heartbeat': 95, 'X': 17, 'Y': 110, 'Z': 55, 'date': '2024-01-11', 'time': '20:56:35'}]\n"
     ]
    }
   ],
   "source": [
    "print(doc)"
   ]
  },
  {
   "cell_type": "code",
   "execution_count": 229,
   "id": "9850d32c-9263-4f70-8f25-9a4da2d1f60a",
   "metadata": {
    "scrolled": true
   },
   "outputs": [
    {
     "name": "stderr",
     "output_type": "stream",
     "text": [
      "/var/folders/jc/cf24y5qn29gbw1930dkhgdmm0000gn/T/ipykernel_6326/2462899896.py:2: FutureWarning: Passing literal json to 'read_json' is deprecated and will be removed in a future version. To read from a literal string, wrap it in a 'StringIO' object.\n",
      "  data = pd.read_json(data_f)\n"
     ]
    }
   ],
   "source": [
    "data_f = json_util.dumps(doc) \n",
    "data = pd.read_json(data_f)"
   ]
  },
  {
   "cell_type": "code",
   "execution_count": 230,
   "id": "7cc96edd-983d-497f-9a61-d6fe12d431d0",
   "metadata": {},
   "outputs": [
    {
     "data": {
      "text/html": [
       "<div>\n",
       "<style scoped>\n",
       "    .dataframe tbody tr th:only-of-type {\n",
       "        vertical-align: middle;\n",
       "    }\n",
       "\n",
       "    .dataframe tbody tr th {\n",
       "        vertical-align: top;\n",
       "    }\n",
       "\n",
       "    .dataframe thead th {\n",
       "        text-align: right;\n",
       "    }\n",
       "</style>\n",
       "<table border=\"1\" class=\"dataframe\">\n",
       "  <thead>\n",
       "    <tr style=\"text-align: right;\">\n",
       "      <th></th>\n",
       "      <th>_id</th>\n",
       "      <th>identifier</th>\n",
       "      <th>heartbeat</th>\n",
       "      <th>X</th>\n",
       "      <th>Y</th>\n",
       "      <th>Z</th>\n",
       "      <th>date</th>\n",
       "      <th>time</th>\n",
       "    </tr>\n",
       "  </thead>\n",
       "  <tbody>\n",
       "    <tr>\n",
       "      <th>0</th>\n",
       "      <td>6598d091733511a437f20641</td>\n",
       "      <td>5893643</td>\n",
       "      <td>104</td>\n",
       "      <td>123</td>\n",
       "      <td>82</td>\n",
       "      <td>567</td>\n",
       "      <td>2023-12-11</td>\n",
       "      <td>11:54:35</td>\n",
       "    </tr>\n",
       "    <tr>\n",
       "      <th>1</th>\n",
       "      <td>6598d091733511a437f20641</td>\n",
       "      <td>5893643</td>\n",
       "      <td>167</td>\n",
       "      <td>154</td>\n",
       "      <td>79</td>\n",
       "      <td>81</td>\n",
       "      <td>2023-11-29</td>\n",
       "      <td>20:56:35</td>\n",
       "    </tr>\n",
       "    <tr>\n",
       "      <th>2</th>\n",
       "      <td>6599472ba471deb267152110</td>\n",
       "      <td>5893643</td>\n",
       "      <td>104</td>\n",
       "      <td>123</td>\n",
       "      <td>82</td>\n",
       "      <td>567</td>\n",
       "      <td>2023-12-11</td>\n",
       "      <td>11:54:35</td>\n",
       "    </tr>\n",
       "    <tr>\n",
       "      <th>3</th>\n",
       "      <td>6599472ba471deb267152110</td>\n",
       "      <td>5893643</td>\n",
       "      <td>167</td>\n",
       "      <td>154</td>\n",
       "      <td>79</td>\n",
       "      <td>81</td>\n",
       "      <td>2023-11-29</td>\n",
       "      <td>20:56:35</td>\n",
       "    </tr>\n",
       "    <tr>\n",
       "      <th>4</th>\n",
       "      <td>65994767a471deb267152111</td>\n",
       "      <td>5893643</td>\n",
       "      <td>104</td>\n",
       "      <td>145</td>\n",
       "      <td>87</td>\n",
       "      <td>90</td>\n",
       "      <td>2023-12-11</td>\n",
       "      <td>11:54:35</td>\n",
       "    </tr>\n",
       "    <tr>\n",
       "      <th>5</th>\n",
       "      <td>65994767a471deb267152111</td>\n",
       "      <td>5893643</td>\n",
       "      <td>161</td>\n",
       "      <td>14</td>\n",
       "      <td>29</td>\n",
       "      <td>80</td>\n",
       "      <td>2023-11-29</td>\n",
       "      <td>20:56:35</td>\n",
       "    </tr>\n",
       "    <tr>\n",
       "      <th>6</th>\n",
       "      <td>65994767a471deb267152111</td>\n",
       "      <td>5893643</td>\n",
       "      <td>185</td>\n",
       "      <td>155</td>\n",
       "      <td>90</td>\n",
       "      <td>75</td>\n",
       "      <td>2023-11-29</td>\n",
       "      <td>20:56:35</td>\n",
       "    </tr>\n",
       "    <tr>\n",
       "      <th>7</th>\n",
       "      <td>659ea460584bf7dd7cf2da5a</td>\n",
       "      <td>5893643</td>\n",
       "      <td>109</td>\n",
       "      <td>144</td>\n",
       "      <td>81</td>\n",
       "      <td>91</td>\n",
       "      <td>2023-12-11</td>\n",
       "      <td>11:54:35</td>\n",
       "    </tr>\n",
       "    <tr>\n",
       "      <th>8</th>\n",
       "      <td>659ea460584bf7dd7cf2da5a</td>\n",
       "      <td>5893643</td>\n",
       "      <td>160</td>\n",
       "      <td>143</td>\n",
       "      <td>292</td>\n",
       "      <td>88</td>\n",
       "      <td>2023-11-29</td>\n",
       "      <td>20:56:35</td>\n",
       "    </tr>\n",
       "    <tr>\n",
       "      <th>9</th>\n",
       "      <td>659ea460584bf7dd7cf2da5a</td>\n",
       "      <td>5893643</td>\n",
       "      <td>184</td>\n",
       "      <td>16</td>\n",
       "      <td>99</td>\n",
       "      <td>70</td>\n",
       "      <td>2023-11-29</td>\n",
       "      <td>20:56:35</td>\n",
       "    </tr>\n",
       "  </tbody>\n",
       "</table>\n",
       "</div>"
      ],
      "text/plain": [
       "                        _id  identifier  heartbeat    X    Y    Z       date  \\\n",
       "0  6598d091733511a437f20641     5893643        104  123   82  567 2023-12-11   \n",
       "1  6598d091733511a437f20641     5893643        167  154   79   81 2023-11-29   \n",
       "2  6599472ba471deb267152110     5893643        104  123   82  567 2023-12-11   \n",
       "3  6599472ba471deb267152110     5893643        167  154   79   81 2023-11-29   \n",
       "4  65994767a471deb267152111     5893643        104  145   87   90 2023-12-11   \n",
       "5  65994767a471deb267152111     5893643        161   14   29   80 2023-11-29   \n",
       "6  65994767a471deb267152111     5893643        185  155   90   75 2023-11-29   \n",
       "7  659ea460584bf7dd7cf2da5a     5893643        109  144   81   91 2023-12-11   \n",
       "8  659ea460584bf7dd7cf2da5a     5893643        160  143  292   88 2023-11-29   \n",
       "9  659ea460584bf7dd7cf2da5a     5893643        184   16   99   70 2023-11-29   \n",
       "\n",
       "       time  \n",
       "0  11:54:35  \n",
       "1  20:56:35  \n",
       "2  11:54:35  \n",
       "3  20:56:35  \n",
       "4  11:54:35  \n",
       "5  20:56:35  \n",
       "6  20:56:35  \n",
       "7  11:54:35  \n",
       "8  20:56:35  \n",
       "9  20:56:35  "
      ]
     },
     "execution_count": 230,
     "metadata": {},
     "output_type": "execute_result"
    }
   ],
   "source": [
    "data.head(10)"
   ]
  },
  {
   "cell_type": "code",
   "execution_count": 86,
   "id": "1a96d745-24dd-4e5d-86f5-d52400a33322",
   "metadata": {},
   "outputs": [],
   "source": [
    "#Tratamento dos dados "
   ]
  },
  {
   "cell_type": "code",
   "execution_count": 231,
   "id": "eb2efffc-5e6c-4c21-94fe-bbdda6ae5e09",
   "metadata": {},
   "outputs": [],
   "source": [
    "data.drop([\"_id\"], axis=1, inplace=True)"
   ]
  },
  {
   "cell_type": "code",
   "execution_count": 232,
   "id": "f082ff1f-386b-4fe2-a28d-dea2f0ce96bf",
   "metadata": {},
   "outputs": [
    {
     "data": {
      "text/html": [
       "<div>\n",
       "<style scoped>\n",
       "    .dataframe tbody tr th:only-of-type {\n",
       "        vertical-align: middle;\n",
       "    }\n",
       "\n",
       "    .dataframe tbody tr th {\n",
       "        vertical-align: top;\n",
       "    }\n",
       "\n",
       "    .dataframe thead th {\n",
       "        text-align: right;\n",
       "    }\n",
       "</style>\n",
       "<table border=\"1\" class=\"dataframe\">\n",
       "  <thead>\n",
       "    <tr style=\"text-align: right;\">\n",
       "      <th></th>\n",
       "      <th>identifier</th>\n",
       "      <th>heartbeat</th>\n",
       "      <th>X</th>\n",
       "      <th>Y</th>\n",
       "      <th>Z</th>\n",
       "      <th>date</th>\n",
       "      <th>time</th>\n",
       "    </tr>\n",
       "  </thead>\n",
       "  <tbody>\n",
       "    <tr>\n",
       "      <th>0</th>\n",
       "      <td>5893643</td>\n",
       "      <td>104</td>\n",
       "      <td>123</td>\n",
       "      <td>82</td>\n",
       "      <td>567</td>\n",
       "      <td>2023-12-11</td>\n",
       "      <td>11:54:35</td>\n",
       "    </tr>\n",
       "    <tr>\n",
       "      <th>1</th>\n",
       "      <td>5893643</td>\n",
       "      <td>167</td>\n",
       "      <td>154</td>\n",
       "      <td>79</td>\n",
       "      <td>81</td>\n",
       "      <td>2023-11-29</td>\n",
       "      <td>20:56:35</td>\n",
       "    </tr>\n",
       "    <tr>\n",
       "      <th>2</th>\n",
       "      <td>5893643</td>\n",
       "      <td>104</td>\n",
       "      <td>123</td>\n",
       "      <td>82</td>\n",
       "      <td>567</td>\n",
       "      <td>2023-12-11</td>\n",
       "      <td>11:54:35</td>\n",
       "    </tr>\n",
       "    <tr>\n",
       "      <th>3</th>\n",
       "      <td>5893643</td>\n",
       "      <td>167</td>\n",
       "      <td>154</td>\n",
       "      <td>79</td>\n",
       "      <td>81</td>\n",
       "      <td>2023-11-29</td>\n",
       "      <td>20:56:35</td>\n",
       "    </tr>\n",
       "    <tr>\n",
       "      <th>4</th>\n",
       "      <td>5893643</td>\n",
       "      <td>104</td>\n",
       "      <td>145</td>\n",
       "      <td>87</td>\n",
       "      <td>90</td>\n",
       "      <td>2023-12-11</td>\n",
       "      <td>11:54:35</td>\n",
       "    </tr>\n",
       "  </tbody>\n",
       "</table>\n",
       "</div>"
      ],
      "text/plain": [
       "   identifier  heartbeat    X   Y    Z       date      time\n",
       "0     5893643        104  123  82  567 2023-12-11  11:54:35\n",
       "1     5893643        167  154  79   81 2023-11-29  20:56:35\n",
       "2     5893643        104  123  82  567 2023-12-11  11:54:35\n",
       "3     5893643        167  154  79   81 2023-11-29  20:56:35\n",
       "4     5893643        104  145  87   90 2023-12-11  11:54:35"
      ]
     },
     "execution_count": 232,
     "metadata": {},
     "output_type": "execute_result"
    }
   ],
   "source": [
    "data.head()"
   ]
  },
  {
   "cell_type": "code",
   "execution_count": 233,
   "id": "871fe3f3-4ce8-4a87-9c19-3b9daad70b1e",
   "metadata": {},
   "outputs": [
    {
     "data": {
      "text/plain": [
       "identifier    0\n",
       "heartbeat     0\n",
       "X             0\n",
       "Y             0\n",
       "Z             0\n",
       "date          0\n",
       "time          0\n",
       "dtype: int64"
      ]
     },
     "execution_count": 233,
     "metadata": {},
     "output_type": "execute_result"
    }
   ],
   "source": [
    "data.isnull().sum()"
   ]
  },
  {
   "cell_type": "code",
   "execution_count": null,
   "id": "24321c9b-976e-407d-946b-6bbcd4d64c11",
   "metadata": {},
   "outputs": [],
   "source": [
    "#Observação dos dados"
   ]
  },
  {
   "cell_type": "code",
   "execution_count": 234,
   "id": "28dcbcf5-974b-4b16-96bf-8e122e46f850",
   "metadata": {},
   "outputs": [
    {
     "data": {
      "text/plain": [
       "(23, 7)"
      ]
     },
     "execution_count": 234,
     "metadata": {},
     "output_type": "execute_result"
    }
   ],
   "source": [
    "data.shape"
   ]
  },
  {
   "cell_type": "code",
   "execution_count": 235,
   "id": "bf97fa90-a5c8-4e1c-884c-d295da596852",
   "metadata": {},
   "outputs": [
    {
     "data": {
      "text/plain": [
       "heartbeat\n",
       "109    4\n",
       "160    4\n",
       "184    4\n",
       "104    3\n",
       "167    2\n",
       "161    1\n",
       "185    1\n",
       "88     1\n",
       "70     1\n",
       "98     1\n",
       "95     1\n",
       "Name: count, dtype: int64"
      ]
     },
     "execution_count": 235,
     "metadata": {},
     "output_type": "execute_result"
    }
   ],
   "source": [
    "occ = data['heartbeat'].value_counts()\n",
    "occ"
   ]
  },
  {
   "cell_type": "code",
   "execution_count": 236,
   "id": "72602b75-347b-40ea-91a3-211fa55312e7",
   "metadata": {},
   "outputs": [],
   "source": [
    "from sklearn import metrics\n",
    "from sklearn import tree\n",
    "from sklearn.ensemble import  RandomForestRegressor\n",
    "from sklearn.model_selection import train_test_split\n",
    "from sklearn.linear_model import LinearRegression\n",
    "from sklearn.metrics import accuracy_score\n",
    "import scipy.cluster.hierarchy as sch\n",
    "import matplotlib.pyplot as plt\n",
    "from sklearn.cluster import KMeans\n",
    "from sklearn.preprocessing import StandardScaler\n",
    "import seaborn as sns"
   ]
  },
  {
   "cell_type": "code",
   "execution_count": 237,
   "id": "5ec6c87d-5ae9-4813-bd63-f44c3dfed8f1",
   "metadata": {},
   "outputs": [],
   "source": [
    "data.drop([\"time\", \"date\"], axis=1, inplace=True)"
   ]
  },
  {
   "cell_type": "code",
   "execution_count": 238,
   "id": "9600921a-7955-4d1b-869e-ce9ed5302589",
   "metadata": {},
   "outputs": [
    {
     "data": {
      "text/html": [
       "<div>\n",
       "<style scoped>\n",
       "    .dataframe tbody tr th:only-of-type {\n",
       "        vertical-align: middle;\n",
       "    }\n",
       "\n",
       "    .dataframe tbody tr th {\n",
       "        vertical-align: top;\n",
       "    }\n",
       "\n",
       "    .dataframe thead th {\n",
       "        text-align: right;\n",
       "    }\n",
       "</style>\n",
       "<table border=\"1\" class=\"dataframe\">\n",
       "  <thead>\n",
       "    <tr style=\"text-align: right;\">\n",
       "      <th></th>\n",
       "      <th>identifier</th>\n",
       "      <th>heartbeat</th>\n",
       "      <th>X</th>\n",
       "      <th>Y</th>\n",
       "      <th>Z</th>\n",
       "    </tr>\n",
       "  </thead>\n",
       "  <tbody>\n",
       "    <tr>\n",
       "      <th>0</th>\n",
       "      <td>5893643</td>\n",
       "      <td>104</td>\n",
       "      <td>123</td>\n",
       "      <td>82</td>\n",
       "      <td>567</td>\n",
       "    </tr>\n",
       "    <tr>\n",
       "      <th>1</th>\n",
       "      <td>5893643</td>\n",
       "      <td>167</td>\n",
       "      <td>154</td>\n",
       "      <td>79</td>\n",
       "      <td>81</td>\n",
       "    </tr>\n",
       "    <tr>\n",
       "      <th>2</th>\n",
       "      <td>5893643</td>\n",
       "      <td>104</td>\n",
       "      <td>123</td>\n",
       "      <td>82</td>\n",
       "      <td>567</td>\n",
       "    </tr>\n",
       "    <tr>\n",
       "      <th>3</th>\n",
       "      <td>5893643</td>\n",
       "      <td>167</td>\n",
       "      <td>154</td>\n",
       "      <td>79</td>\n",
       "      <td>81</td>\n",
       "    </tr>\n",
       "    <tr>\n",
       "      <th>4</th>\n",
       "      <td>5893643</td>\n",
       "      <td>104</td>\n",
       "      <td>145</td>\n",
       "      <td>87</td>\n",
       "      <td>90</td>\n",
       "    </tr>\n",
       "  </tbody>\n",
       "</table>\n",
       "</div>"
      ],
      "text/plain": [
       "   identifier  heartbeat    X   Y    Z\n",
       "0     5893643        104  123  82  567\n",
       "1     5893643        167  154  79   81\n",
       "2     5893643        104  123  82  567\n",
       "3     5893643        167  154  79   81\n",
       "4     5893643        104  145  87   90"
      ]
     },
     "execution_count": 238,
     "metadata": {},
     "output_type": "execute_result"
    }
   ],
   "source": [
    "data.head()"
   ]
  },
  {
   "cell_type": "code",
   "execution_count": 239,
   "id": "05ccdccf-b30f-43a6-820b-077d5477a25e",
   "metadata": {},
   "outputs": [
    {
     "data": {
      "image/png": "[encoded data removed]",
      "text/plain": [
       "<Figure size 640x480 with 1 Axes>"
      ]
     },
     "metadata": {},
     "output_type": "display_data"
    }
   ],
   "source": [
    "dendrogram = sch.dendrogram(sch.linkage(data, method  = \"ward\"))\n",
    "plt.title('Dendrogram')\n",
    "plt.xlabel('Batimetos cardiácos')\n",
    "plt.ylabel('Euclidean distances')\n",
    "plt.show()"
   ]
  },
  {
   "cell_type": "code",
   "execution_count": 247,
   "id": "3f7b97a1-25c5-46aa-8dcc-115593b5dacd",
   "metadata": {},
   "outputs": [
    {
     "name": "stderr",
     "output_type": "stream",
     "text": [
      "/var/folders/jc/cf24y5qn29gbw1930dkhgdmm0000gn/T/ipykernel_6326/928339366.py:3: UserWarning: \n",
      "\n",
      "`distplot` is a deprecated function and will be removed in seaborn v0.14.0.\n",
      "\n",
      "Please adapt your code to use either `displot` (a figure-level function with\n",
      "similar flexibility) or `kdeplot` (an axes-level function for kernel density plots).\n",
      "\n",
      "For a guide to updating your code to use the new functions, please see\n",
      "https://gist.github.com/mwaskom/de44147ed2974457ad6372750bbe5751\n",
      "\n",
      "  sns.distplot(data.heartbeat[data['heartbeat']==167], color='orange', hist=False, kde=True, label='alto')\n",
      "/Library/Frameworks/Python.framework/Versions/3.12/lib/python3.12/site-packages/seaborn/distributions.py:2496: UserWarning: Dataset has 0 variance; skipping density estimate. Pass `warn_singular=False` to disable this warning.\n",
      "  kdeplot(**{axis: a}, ax=ax, color=kde_color, **kde_kws)\n",
      "/var/folders/jc/cf24y5qn29gbw1930dkhgdmm0000gn/T/ipykernel_6326/928339366.py:4: UserWarning: \n",
      "\n",
      "`distplot` is a deprecated function and will be removed in seaborn v0.14.0.\n",
      "\n",
      "Please adapt your code to use either `displot` (a figure-level function with\n",
      "similar flexibility) or `kdeplot` (an axes-level function for kernel density plots).\n",
      "\n",
      "For a guide to updating your code to use the new functions, please see\n",
      "https://gist.github.com/mwaskom/de44147ed2974457ad6372750bbe5751\n",
      "\n",
      "  sns.distplot(data.heartbeat[data['heartbeat']==109], color='blue', hist=False, kde=True, label='baixo')\n",
      "/Library/Frameworks/Python.framework/Versions/3.12/lib/python3.12/site-packages/seaborn/distributions.py:2496: UserWarning: Dataset has 0 variance; skipping density estimate. Pass `warn_singular=False` to disable this warning.\n",
      "  kdeplot(**{axis: a}, ax=ax, color=kde_color, **kde_kws)\n",
      "/var/folders/jc/cf24y5qn29gbw1930dkhgdmm0000gn/T/ipykernel_6326/928339366.py:8: UserWarning: \n",
      "\n",
      "`distplot` is a deprecated function and will be removed in seaborn v0.14.0.\n",
      "\n",
      "Please adapt your code to use either `displot` (a figure-level function with\n",
      "similar flexibility) or `kdeplot` (an axes-level function for kernel density plots).\n",
      "\n",
      "For a guide to updating your code to use the new functions, please see\n",
      "https://gist.github.com/mwaskom/de44147ed2974457ad6372750bbe5751\n",
      "\n",
      "  sns.distplot(data.X[data['X']==144], color='orange', hist=False, kde=True, label='alto')\n",
      "/Library/Frameworks/Python.framework/Versions/3.12/lib/python3.12/site-packages/seaborn/distributions.py:2496: UserWarning: Dataset has 0 variance; skipping density estimate. Pass `warn_singular=False` to disable this warning.\n",
      "  kdeplot(**{axis: a}, ax=ax, color=kde_color, **kde_kws)\n",
      "/var/folders/jc/cf24y5qn29gbw1930dkhgdmm0000gn/T/ipykernel_6326/928339366.py:9: UserWarning: \n",
      "\n",
      "`distplot` is a deprecated function and will be removed in seaborn v0.14.0.\n",
      "\n",
      "Please adapt your code to use either `displot` (a figure-level function with\n",
      "similar flexibility) or `kdeplot` (an axes-level function for kernel density plots).\n",
      "\n",
      "For a guide to updating your code to use the new functions, please see\n",
      "https://gist.github.com/mwaskom/de44147ed2974457ad6372750bbe5751\n",
      "\n",
      "  sns.distplot(data.X[data['X']==16], color='blue', hist=False, kde=True, label='baixo')\n",
      "/Library/Frameworks/Python.framework/Versions/3.12/lib/python3.12/site-packages/seaborn/distributions.py:2496: UserWarning: Dataset has 0 variance; skipping density estimate. Pass `warn_singular=False` to disable this warning.\n",
      "  kdeplot(**{axis: a}, ax=ax, color=kde_color, **kde_kws)\n",
      "/var/folders/jc/cf24y5qn29gbw1930dkhgdmm0000gn/T/ipykernel_6326/928339366.py:13: UserWarning: \n",
      "\n",
      "`distplot` is a deprecated function and will be removed in seaborn v0.14.0.\n",
      "\n",
      "Please adapt your code to use either `displot` (a figure-level function with\n",
      "similar flexibility) or `kdeplot` (an axes-level function for kernel density plots).\n",
      "\n",
      "For a guide to updating your code to use the new functions, please see\n",
      "https://gist.github.com/mwaskom/de44147ed2974457ad6372750bbe5751\n",
      "\n",
      "  sns.distplot(data.Y[data['Y']==82], color='orange', hist=False, kde=True, label='alto')\n",
      "/Library/Frameworks/Python.framework/Versions/3.12/lib/python3.12/site-packages/seaborn/distributions.py:2496: UserWarning: Dataset has 0 variance; skipping density estimate. Pass `warn_singular=False` to disable this warning.\n",
      "  kdeplot(**{axis: a}, ax=ax, color=kde_color, **kde_kws)\n",
      "/var/folders/jc/cf24y5qn29gbw1930dkhgdmm0000gn/T/ipykernel_6326/928339366.py:14: UserWarning: \n",
      "\n",
      "`distplot` is a deprecated function and will be removed in seaborn v0.14.0.\n",
      "\n",
      "Please adapt your code to use either `displot` (a figure-level function with\n",
      "similar flexibility) or `kdeplot` (an axes-level function for kernel density plots).\n",
      "\n",
      "For a guide to updating your code to use the new functions, please see\n",
      "https://gist.github.com/mwaskom/de44147ed2974457ad6372750bbe5751\n",
      "\n",
      "  sns.distplot(data.Y[data['Y']==79], color='blue', hist=False, kde=True, label='baixo')\n",
      "/Library/Frameworks/Python.framework/Versions/3.12/lib/python3.12/site-packages/seaborn/distributions.py:2496: UserWarning: Dataset has 0 variance; skipping density estimate. Pass `warn_singular=False` to disable this warning.\n",
      "  kdeplot(**{axis: a}, ax=ax, color=kde_color, **kde_kws)\n"
     ]
    },
    {
     "data": {
      "image/png": "[encoded data removed]",
      "text/plain": [
       "<Figure size 2000x400 with 3 Axes>"
      ]
     },
     "metadata": {},
     "output_type": "display_data"
    }
   ],
   "source": [
    "plt.figure(figsize=(20,4))\n",
    "plt.subplot(1,3,1)\n",
    "sns.distplot(data.heartbeat[data['heartbeat']==167], color='orange', hist=False, kde=True, label='alto')\n",
    "sns.distplot(data.heartbeat[data['heartbeat']==109], color='blue', hist=False, kde=True, label='baixo')\n",
    "plt.title('heartbeat')\n",
    "\n",
    "plt.subplot(1,3,2)\n",
    "sns.distplot(data.X[data['X']==144], color='orange', hist=False, kde=True, label='alto')\n",
    "sns.distplot(data.X[data['X']==16], color='blue', hist=False, kde=True, label='baixo')\n",
    "plt.title('exio X')\n",
    "\n",
    "plt.subplot(1,3,3)\n",
    "sns.distplot(data.Y[data['Y']==82], color='orange', hist=False, kde=True, label='alto')\n",
    "sns.distplot(data.Y[data['Y']==79], color='blue', hist=False, kde=True, label='baixo')\n",
    "plt.title('exio Y')\n",
    "\n",
    "#plt.subplot(1,3,3)\n",
    "#sns.distplot(data.Z[data['Z']==567], color='orange', hist=False, kde=True, label='alto')\n",
    "#sns.distplot(data.Z[data['Z']==70], color='blue', hist=False, kde=True, label='baixo')\n",
    "#plt.title('exio Z')\n",
    "\n",
    "plt.show()"
   ]
  },
  {
   "cell_type": "code",
   "execution_count": null,
   "id": "d4e921a7-576b-4cd9-a360-424dc4881173",
   "metadata": {},
   "outputs": [],
   "source": [
    "#Aplicando Matrix de Correlação"
   ]
  },
  {
   "cell_type": "code",
   "execution_count": 198,
   "id": "23f18f46-796a-4f31-b079-b37bcac669f4",
   "metadata": {},
   "outputs": [
    {
     "ename": "NameError",
     "evalue": "name 'sns' is not defined",
     "output_type": "error",
     "traceback": [
      "\u001b[0;31m---------------------------------------------------------------------------\u001b[0m",
      "\u001b[0;31mNameError\u001b[0m                                 Traceback (most recent call last)",
      "Cell \u001b[0;32mIn[198], line 2\u001b[0m\n\u001b[1;32m      1\u001b[0m plt\u001b[38;5;241m.\u001b[39mfigure(figsize\u001b[38;5;241m=\u001b[39m(\u001b[38;5;241m20\u001b[39m, \u001b[38;5;241m10\u001b[39m))\n\u001b[0;32m----> 2\u001b[0m \u001b[43msns\u001b[49m\u001b[38;5;241m.\u001b[39mheatmap(dataset_insatif\u001b[38;5;241m.\u001b[39mcorr(),  annot\u001b[38;5;241m=\u001b[39m\u001b[38;5;28;01mTrue\u001b[39;00m)\n\u001b[1;32m      3\u001b[0m plt\u001b[38;5;241m.\u001b[39mshow()\n",
      "\u001b[0;31mNameError\u001b[0m: name 'sns' is not defined"
     ]
    },
    {
     "data": {
      "text/plain": [
       "<Figure size 2000x1000 with 0 Axes>"
      ]
     },
     "metadata": {},
     "output_type": "display_data"
    }
   ],
   "source": [
    "plt.figure(figsize=(20, 10))\n",
    "sns.heatmap(dataset_insatif.corr(),  annot=True)\n",
    "plt.show()"
   ]
  },
  {
   "cell_type": "code",
   "execution_count": null,
   "id": "92e59c76-9979-4f69-86f8-c5484cb639aa",
   "metadata": {},
   "outputs": [],
   "source": []
  }
 ],
 "metadata": {
  "kernelspec": {
   "display_name": "Python 3 (ipykernel)",
   "language": "python",
   "name": "python3"
  },
  "language_info": {
   "codemirror_mode": {
    "name": "ipython",
    "version": 3
   },
   "file_extension": ".py",
   "mimetype": "text/x-python",
   "name": "python",
   "nbconvert_exporter": "python",
   "pygments_lexer": "ipython3",
   "version": "3.12.1"
  }
 },
 "nbformat": 4,
 "nbformat_minor": 5
}
