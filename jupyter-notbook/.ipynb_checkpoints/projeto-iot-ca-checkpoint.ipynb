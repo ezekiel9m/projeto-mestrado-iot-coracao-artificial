{
 "cells": [
  {
   "cell_type": "code",
   "execution_count": 186,
   "id": "f2e19845-b723-4ab7-b0d8-b88f90b6db7f",
   "metadata": {},
   "outputs": [],
   "source": [
    "from fastapi import Request, FastAPI, Response\n",
    "from typing import Any, Dict, AnyStr, List\n",
    "from datetime import datetime\n",
    "from bson import json_util\n",
    "import numpy as np\n",
    "import pandas as pd\n",
    "import requests\n",
    "import json"
   ]
  },
  {
   "cell_type": "code",
   "execution_count": 202,
   "id": "3db3951d-53c8-410d-bf00-a16dc7e3945c",
   "metadata": {},
   "outputs": [],
   "source": [
    "url = 'http://127.0.0.1:8000/datas/list_all'\n",
    "doc =  requests.get(url)\n",
    "doc = doc.json()"
   ]
  },
  {
   "cell_type": "code",
   "execution_count": 204,
   "id": "5aee7820-dd87-41e1-ba38-92847bf43da4",
   "metadata": {},
   "outputs": [],
   "source": [
    " #Exibe todos dados do banco "
   ]
  },
  {
   "cell_type": "code",
   "execution_count": 205,
   "id": "cd0bb285-4e07-4415-926d-2468f8f27227",
   "metadata": {
    "scrolled": true
   },
   "outputs": [
    {
     "name": "stdout",
     "output_type": "stream",
     "text": [
      "[{'_id': {'$oid': '65349a2edc66eed7e7fb293c'}, 'patient_id': '64c8237cd15f63bc7490a318', 'identifier': 'FN567801', 'body': [{'moviments': {'X': '128', 'Y': '89', 'Z': '46'}, 'heartbeat': '90', 'location': 'SP', 'datecollect': '2023-10-08T16:54:35.919+00:00'}, {'moviments': {'X': '190', 'Y': '78', 'Z': '87'}, 'heartbeat': '160', 'location': 'SP', 'datecollect': '2023-10-08T16:54:35.919+00:01'}], 'datacreate': {'$date': '2023-10-22T00:42:38.244Z'}}, {'_id': {'$oid': '65349a63dc66eed7e7fb293d'}, 'patient_id': '64c82d42aee8cb7f61562b66', 'identifier': 'FN5678093', 'body': [{'moviments': {'X': '128', 'Y': '89', 'Z': '47'}, 'heartbeat': '93', 'location': 'SP', 'datecollect': '2023-10-08T16:54:35.919+00:00'}, {'moviments': {'X': '151', 'Y': '79', 'Z': '81'}, 'heartbeat': '167', 'location': 'SP', 'datecollect': '2023-10-08T16:56:35.919+00:01'}], 'datacreate': {'$date': '2023-10-22T00:43:31.134Z'}}, {'_id': {'$oid': '65349a87dc66eed7e7fb293e'}, 'patient_id': '64c97980f894e6ebb3dcf6a5', 'identifier': 'FN567899', 'body': [{'moviments': {'X': '123', 'Y': '82', 'Z': '49'}, 'heartbeat': '100', 'location': 'SP', 'datecollect': '2023-10-08T16:54:35.919+00:00'}, {'moviments': {'X': '154', 'Y': '79', 'Z': '81'}, 'heartbeat': '167', 'location': 'SP', 'datecollect': '2023-10-08T16:56:35.919+00:01'}], 'datacreate': {'$date': '2023-10-22T00:44:07.534Z'}}]\n"
     ]
    }
   ],
   "source": [
    "print(doc)"
   ]
  },
  {
   "cell_type": "code",
   "execution_count": 197,
   "id": "defcda8c-1773-4478-8417-a4c344c7efd8",
   "metadata": {},
   "outputs": [],
   "source": [
    "url = 'http://127.0.0.1:8000/datas/list_datas_analyse'\n",
    "doc =  requests.get(url)\n",
    "doc = doc.json()"
   ]
  },
  {
   "cell_type": "code",
   "execution_count": 198,
   "id": "9850d32c-9263-4f70-8f25-9a4da2d1f60a",
   "metadata": {},
   "outputs": [
    {
     "name": "stderr",
     "output_type": "stream",
     "text": [
      "/var/folders/5m/rv3_s0bx2j152z1965g4lqfr0000gn/T/ipykernel_13460/115205960.py:2: FutureWarning: Passing literal json to 'read_json' is deprecated and will be removed in a future version. To read from a literal string, wrap it in a 'StringIO' object.\n",
      "  datas = pd.read_json(data)\n"
     ]
    }
   ],
   "source": [
    "data = json_util.dumps(doc) \n",
    "datas = pd.read_json(data)"
   ]
  },
  {
   "cell_type": "code",
   "execution_count": 199,
   "id": "7cc96edd-983d-497f-9a61-d6fe12d431d0",
   "metadata": {
    "scrolled": true
   },
   "outputs": [
    {
     "data": {
      "text/html": [
       "<div>\n",
       "<style scoped>\n",
       "    .dataframe tbody tr th:only-of-type {\n",
       "        vertical-align: middle;\n",
       "    }\n",
       "\n",
       "    .dataframe tbody tr th {\n",
       "        vertical-align: top;\n",
       "    }\n",
       "\n",
       "    .dataframe thead th {\n",
       "        text-align: right;\n",
       "    }\n",
       "</style>\n",
       "<table border=\"1\" class=\"dataframe\">\n",
       "  <thead>\n",
       "    <tr style=\"text-align: right;\">\n",
       "      <th></th>\n",
       "      <th>_id</th>\n",
       "      <th>identifier</th>\n",
       "      <th>heartbeat</th>\n",
       "      <th>X</th>\n",
       "      <th>Y</th>\n",
       "      <th>Z</th>\n",
       "      <th>datecollect</th>\n",
       "      <th>datacreate</th>\n",
       "    </tr>\n",
       "  </thead>\n",
       "  <tbody>\n",
       "    <tr>\n",
       "      <th>0</th>\n",
       "      <td>65349a2edc66eed7e7fb293c</td>\n",
       "      <td>FN567801</td>\n",
       "      <td>90</td>\n",
       "      <td>128</td>\n",
       "      <td>89</td>\n",
       "      <td>46</td>\n",
       "      <td>2023-10-08T16:54:35.919+00:00</td>\n",
       "      <td>2023-10-22T00:42:38.244Z</td>\n",
       "    </tr>\n",
       "    <tr>\n",
       "      <th>1</th>\n",
       "      <td>65349a2edc66eed7e7fb293c</td>\n",
       "      <td>FN567801</td>\n",
       "      <td>160</td>\n",
       "      <td>190</td>\n",
       "      <td>78</td>\n",
       "      <td>87</td>\n",
       "      <td>2023-10-08T16:54:35.919+00:01</td>\n",
       "      <td>2023-10-22T00:42:38.244Z</td>\n",
       "    </tr>\n",
       "    <tr>\n",
       "      <th>2</th>\n",
       "      <td>65349a63dc66eed7e7fb293d</td>\n",
       "      <td>FN5678093</td>\n",
       "      <td>93</td>\n",
       "      <td>128</td>\n",
       "      <td>89</td>\n",
       "      <td>47</td>\n",
       "      <td>2023-10-08T16:54:35.919+00:00</td>\n",
       "      <td>2023-10-22T00:43:31.134Z</td>\n",
       "    </tr>\n",
       "    <tr>\n",
       "      <th>3</th>\n",
       "      <td>65349a63dc66eed7e7fb293d</td>\n",
       "      <td>FN5678093</td>\n",
       "      <td>167</td>\n",
       "      <td>151</td>\n",
       "      <td>79</td>\n",
       "      <td>81</td>\n",
       "      <td>2023-10-08T16:56:35.919+00:01</td>\n",
       "      <td>2023-10-22T00:43:31.134Z</td>\n",
       "    </tr>\n",
       "    <tr>\n",
       "      <th>4</th>\n",
       "      <td>65349a87dc66eed7e7fb293e</td>\n",
       "      <td>FN567899</td>\n",
       "      <td>100</td>\n",
       "      <td>123</td>\n",
       "      <td>82</td>\n",
       "      <td>49</td>\n",
       "      <td>2023-10-08T16:54:35.919+00:00</td>\n",
       "      <td>2023-10-22T00:44:07.534Z</td>\n",
       "    </tr>\n",
       "  </tbody>\n",
       "</table>\n",
       "</div>"
      ],
      "text/plain": [
       "                        _id identifier  heartbeat    X   Y   Z  \\\n",
       "0  65349a2edc66eed7e7fb293c   FN567801         90  128  89  46   \n",
       "1  65349a2edc66eed7e7fb293c   FN567801        160  190  78  87   \n",
       "2  65349a63dc66eed7e7fb293d  FN5678093         93  128  89  47   \n",
       "3  65349a63dc66eed7e7fb293d  FN5678093        167  151  79  81   \n",
       "4  65349a87dc66eed7e7fb293e   FN567899        100  123  82  49   \n",
       "\n",
       "                     datecollect                datacreate  \n",
       "0  2023-10-08T16:54:35.919+00:00  2023-10-22T00:42:38.244Z  \n",
       "1  2023-10-08T16:54:35.919+00:01  2023-10-22T00:42:38.244Z  \n",
       "2  2023-10-08T16:54:35.919+00:00  2023-10-22T00:43:31.134Z  \n",
       "3  2023-10-08T16:56:35.919+00:01  2023-10-22T00:43:31.134Z  \n",
       "4  2023-10-08T16:54:35.919+00:00  2023-10-22T00:44:07.534Z  "
      ]
     },
     "execution_count": 199,
     "metadata": {},
     "output_type": "execute_result"
    }
   ],
   "source": [
    "datas.head()"
   ]
  },
  {
   "cell_type": "code",
   "execution_count": 183,
   "id": "1979f6aa-1287-4672-9857-c6aad80f0a66",
   "metadata": {},
   "outputs": [
    {
     "data": {
      "text/html": [
       "<div>\n",
       "<style scoped>\n",
       "    .dataframe tbody tr th:only-of-type {\n",
       "        vertical-align: middle;\n",
       "    }\n",
       "\n",
       "    .dataframe tbody tr th {\n",
       "        vertical-align: top;\n",
       "    }\n",
       "\n",
       "    .dataframe thead th {\n",
       "        text-align: right;\n",
       "    }\n",
       "</style>\n",
       "<table border=\"1\" class=\"dataframe\">\n",
       "  <thead>\n",
       "    <tr style=\"text-align: right;\">\n",
       "      <th></th>\n",
       "      <th>heartbeat</th>\n",
       "      <th>X</th>\n",
       "      <th>Y</th>\n",
       "      <th>Z</th>\n",
       "    </tr>\n",
       "  </thead>\n",
       "  <tbody>\n",
       "    <tr>\n",
       "      <th>count</th>\n",
       "      <td>6.000000</td>\n",
       "      <td>6.000000</td>\n",
       "      <td>6.000000</td>\n",
       "      <td>6.000000</td>\n",
       "    </tr>\n",
       "    <tr>\n",
       "      <th>mean</th>\n",
       "      <td>129.500000</td>\n",
       "      <td>145.666667</td>\n",
       "      <td>82.666667</td>\n",
       "      <td>65.166667</td>\n",
       "    </tr>\n",
       "    <tr>\n",
       "      <th>std</th>\n",
       "      <td>38.744032</td>\n",
       "      <td>25.303491</td>\n",
       "      <td>5.085928</td>\n",
       "      <td>19.681633</td>\n",
       "    </tr>\n",
       "    <tr>\n",
       "      <th>min</th>\n",
       "      <td>90.000000</td>\n",
       "      <td>123.000000</td>\n",
       "      <td>78.000000</td>\n",
       "      <td>46.000000</td>\n",
       "    </tr>\n",
       "    <tr>\n",
       "      <th>25%</th>\n",
       "      <td>94.750000</td>\n",
       "      <td>128.000000</td>\n",
       "      <td>79.000000</td>\n",
       "      <td>47.500000</td>\n",
       "    </tr>\n",
       "    <tr>\n",
       "      <th>50%</th>\n",
       "      <td>130.000000</td>\n",
       "      <td>139.500000</td>\n",
       "      <td>80.500000</td>\n",
       "      <td>65.000000</td>\n",
       "    </tr>\n",
       "    <tr>\n",
       "      <th>75%</th>\n",
       "      <td>165.250000</td>\n",
       "      <td>153.250000</td>\n",
       "      <td>87.250000</td>\n",
       "      <td>81.000000</td>\n",
       "    </tr>\n",
       "    <tr>\n",
       "      <th>max</th>\n",
       "      <td>167.000000</td>\n",
       "      <td>190.000000</td>\n",
       "      <td>89.000000</td>\n",
       "      <td>87.000000</td>\n",
       "    </tr>\n",
       "  </tbody>\n",
       "</table>\n",
       "</div>"
      ],
      "text/plain": [
       "        heartbeat           X          Y          Z\n",
       "count    6.000000    6.000000   6.000000   6.000000\n",
       "mean   129.500000  145.666667  82.666667  65.166667\n",
       "std     38.744032   25.303491   5.085928  19.681633\n",
       "min     90.000000  123.000000  78.000000  46.000000\n",
       "25%     94.750000  128.000000  79.000000  47.500000\n",
       "50%    130.000000  139.500000  80.500000  65.000000\n",
       "75%    165.250000  153.250000  87.250000  81.000000\n",
       "max    167.000000  190.000000  89.000000  87.000000"
      ]
     },
     "execution_count": 183,
     "metadata": {},
     "output_type": "execute_result"
    }
   ],
   "source": [
    "datas.drop([\"_id\"], axis=1, inplace=True)\n",
    "datas.describe()"
   ]
  },
  {
   "cell_type": "code",
   "execution_count": 67,
   "id": "19d113c4-13f7-45d9-80e2-e807186145d9",
   "metadata": {},
   "outputs": [
    {
     "ename": "AttributeError",
     "evalue": "'function' object has no attribute 'shape'",
     "output_type": "error",
     "traceback": [
      "\u001b[0;31m---------------------------------------------------------------------------\u001b[0m",
      "\u001b[0;31mAttributeError\u001b[0m                            Traceback (most recent call last)",
      "Cell \u001b[0;32mIn[67], line 1\u001b[0m\n\u001b[0;32m----> 1\u001b[0m \u001b[38;5;28mprint\u001b[39m(\u001b[43mdata\u001b[49m\u001b[38;5;241;43m.\u001b[39;49m\u001b[43mshape\u001b[49m, \u001b[38;5;28mtype\u001b[39m(data))\n\u001b[1;32m      3\u001b[0m \u001b[38;5;66;03m# alocando as variáveis\u001b[39;00m\n\u001b[1;32m      4\u001b[0m x \u001b[38;5;241m=\u001b[39m data[:,\u001b[38;5;241m0\u001b[39m]\n",
      "\u001b[0;31mAttributeError\u001b[0m: 'function' object has no attribute 'shape'"
     ]
    }
   ],
   "source": [
    "print(data.shape, type(data))\n",
    "\n",
    "# alocando as variáveis\n",
    "x = data[:,0]\n",
    "y = data[:,1]\n",
    "\n",
    "# plotando o gráfico\n",
    "plt.plot(x,y)\n",
    "plt.show()"
   ]
  },
  {
   "cell_type": "code",
   "execution_count": null,
   "id": "871fe3f3-4ce8-4a87-9c19-3b9daad70b1e",
   "metadata": {},
   "outputs": [],
   "source": []
  },
  {
   "cell_type": "code",
   "execution_count": null,
   "id": "37c0f628-5bdf-40ed-b867-a7599d4a6a1d",
   "metadata": {},
   "outputs": [],
   "source": [
    "# Historgrama "
   ]
  },
  {
   "cell_type": "code",
   "execution_count": null,
   "id": "f0413ce4-4b77-4777-8b35-6c1da8fa925d",
   "metadata": {},
   "outputs": [],
   "source": [
    "# Dados de exemplo gerados aleatóriamente\n",
    "mu = 100  # média da distribuição\n",
    "sigma = 15  # desvio padrão da distribuição\n",
    "\n",
    "x = mu + sigma * np.random.randn(1000) # amostragem da distribuição normal especificada\n",
    "\n",
    "# numero de bins a serem usados no histograma\n",
    "num_bins = 50 \n",
    "\n",
    "# fazendo o histograma dos dados\n",
    "n, bins, patches = plt.hist(x, num_bins, normed=1, facecolor='green', alpha=0.8)\n",
    "\n",
    "# mostre a distribuição gaussiana original\n",
    "y = mlab.normpdf(bins, mu, sigma)\n",
    "plt.plot(bins, y, 'r--')\n",
    "plt.xlabel('Smarts')\n",
    "plt.ylabel('Probability')\n",
    "plt.title(r'Histogram of IQ: $\\mu=100$, $\\sigma=15$')\n",
    "\n",
    "# Tweak spacing to prevent clipping of ylabel\n",
    "plt.subplots_adjust(left=0.15)\n",
    "plt.show()"
   ]
  },
  {
   "cell_type": "code",
   "execution_count": null,
   "id": "6e28c298-381f-4a2c-987b-edf39ca05496",
   "metadata": {},
   "outputs": [],
   "source": [
    "plt.figure(figsize = ((12, 6)))\n",
    "x = np.arange(0, 10, 0.2)\n",
    "y = np.tan(x)\n",
    "plt.subplot(2, 2, 1)\n",
    "plt.plot(x,y)\n",
    "plt.title(\"Gráfico 01\", fontsize = 16)\n",
    "x = np.arange(0, 10, 0.2)\n",
    "y = np.sin(x)\n",
    "plt.subplot(2, 2, 2)\n",
    "plt.plot(x,y)\n",
    "plt.title(\"Gráfico 02\", fontsize = 16)\n",
    "x = np.arange(0, 10, 0.2)\n",
    "y = np.sinh(x)\n",
    "plt.subplot(2, 2, 3)\n",
    "plt.plot(x,y)\n",
    "plt.title(\"Gráfico 03\", fontsize = 16)\n",
    "x = np.arange(1, 10, 0.2)\n",
    "y = np.log(x)\n",
    "plt.subplot(2, 2, 4)\n",
    "plt.plot(x,y)\n",
    "plt.title(\"Gráfico 04\", fontsize = 16)\n",
    "plt.suptitle(\"Gráficos\", fontsize = 20)\n",
    "plt.subplots_adjust(left=0.125, bottom=0.1, right=0.9, top=0.9, wspace=0.2, hspace=0.35)\n",
    "plt.show()"
   ]
  }
 ],
 "metadata": {
  "kernelspec": {
   "display_name": "Python 3 (ipykernel)",
   "language": "python",
   "name": "python3"
  },
  "language_info": {
   "codemirror_mode": {
    "name": "ipython",
    "version": 3
   },
   "file_extension": ".py",
   "mimetype": "text/x-python",
   "name": "python",
   "nbconvert_exporter": "python",
   "pygments_lexer": "ipython3",
   "version": "3.11.5"
  }
 },
 "nbformat": 4,
 "nbformat_minor": 5
}
