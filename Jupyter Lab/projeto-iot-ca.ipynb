{
 "cells": [
  {
   "cell_type": "code",
   "execution_count": 5,
   "id": "f2e19845-b723-4ab7-b0d8-b88f90b6db7f",
   "metadata": {},
   "outputs": [],
   "source": [
    "from fastapi import Request\n",
    "from matplotlib import pyplot as plt\n",
    "import matplotlib.mlab as mlab\n",
    "import numpy as np"
   ]
  },
  {
   "cell_type": "code",
   "execution_count": 8,
   "id": "3db3951d-53c8-410d-bf00-a16dc7e3945c",
   "metadata": {},
   "outputs": [
    {
     "ename": "AttributeError",
     "evalue": "type object 'Request' has no attribute 'Get'",
     "output_type": "error",
     "traceback": [
      "\u001b[0;31m---------------------------------------------------------------------------\u001b[0m",
      "\u001b[0;31mAttributeError\u001b[0m                            Traceback (most recent call last)",
      "Cell \u001b[0;32mIn[8], line 2\u001b[0m\n\u001b[1;32m      1\u001b[0m url_Get \u001b[38;5;241m=\u001b[39m \u001b[38;5;124m\"\u001b[39m\u001b[38;5;124mhttp://127.0.0.1:8000/data/list\u001b[39m\u001b[38;5;124m\"\u001b[39m\n\u001b[0;32m----> 2\u001b[0m datas \u001b[38;5;241m=\u001b[39m \u001b[43mRequest\u001b[49m\u001b[38;5;241;43m.\u001b[39;49m\u001b[43mGet\u001b[49m(url_Get)\n",
      "\u001b[0;31mAttributeError\u001b[0m: type object 'Request' has no attribute 'Get'"
     ]
    }
   ],
   "source": [
    "url_Get = \"http://127.0.0.1:8000/data/list\"\n",
    "datas = Request.Get(url_Get)"
   ]
  },
  {
   "cell_type": "code",
   "execution_count": null,
   "id": "b67e5bf9-7d0c-4584-9161-86587bc2f6a6",
   "metadata": {},
   "outputs": [],
   "source": [
    "# Frequencia cardiáco "
   ]
  },
  {
   "cell_type": "code",
   "execution_count": null,
   "id": "19d113c4-13f7-45d9-80e2-e807186145d9",
   "metadata": {},
   "outputs": [],
   "source": [
    "print data.shape, type(data)\n",
    "\n",
    "# alocando as variáveis\n",
    "x = data[:,0]\n",
    "y = data[:,1]\n",
    "\n",
    "# plotando o gráfico\n",
    "plt.plot(x,y)\n",
    "plt.show()"
   ]
  },
  {
   "cell_type": "code",
   "execution_count": null,
   "id": "37c0f628-5bdf-40ed-b867-a7599d4a6a1d",
   "metadata": {},
   "outputs": [],
   "source": [
    "# Historgrama "
   ]
  },
  {
   "cell_type": "code",
   "execution_count": null,
   "id": "f0413ce4-4b77-4777-8b35-6c1da8fa925d",
   "metadata": {},
   "outputs": [],
   "source": [
    "# Dados de exemplo gerados aleatóriamente\n",
    "mu = 100  # média da distribuição\n",
    "sigma = 15  # desvio padrão da distribuição\n",
    "\n",
    "x = mu + sigma * np.random.randn(1000) # amostragem da distribuição normal especificada\n",
    "\n",
    "# numero de bins a serem usados no histograma\n",
    "num_bins = 50 \n",
    "\n",
    "# fazendo o histograma dos dados\n",
    "n, bins, patches = plt.hist(x, num_bins, normed=1, facecolor='green', alpha=0.8)\n",
    "\n",
    "# mostre a distribuição gaussiana original\n",
    "y = mlab.normpdf(bins, mu, sigma)\n",
    "plt.plot(bins, y, 'r--')\n",
    "plt.xlabel('Smarts')\n",
    "plt.ylabel('Probability')\n",
    "plt.title(r'Histogram of IQ: $\\mu=100$, $\\sigma=15$')\n",
    "\n",
    "# Tweak spacing to prevent clipping of ylabel\n",
    "plt.subplots_adjust(left=0.15)\n",
    "plt.show()"
   ]
  },
  {
   "cell_type": "code",
   "execution_count": null,
   "id": "6e28c298-381f-4a2c-987b-edf39ca05496",
   "metadata": {},
   "outputs": [],
   "source": [
    "plt.figure(figsize = ((12, 6)))\n",
    "x = np.arange(0, 10, 0.2)\n",
    "y = np.tan(x)\n",
    "plt.subplot(2, 2, 1)\n",
    "plt.plot(x,y)\n",
    "plt.title(\"Gráfico 01\", fontsize = 16)\n",
    "x = np.arange(0, 10, 0.2)\n",
    "y = np.sin(x)\n",
    "plt.subplot(2, 2, 2)\n",
    "plt.plot(x,y)\n",
    "plt.title(\"Gráfico 02\", fontsize = 16)\n",
    "x = np.arange(0, 10, 0.2)\n",
    "y = np.sinh(x)\n",
    "plt.subplot(2, 2, 3)\n",
    "plt.plot(x,y)\n",
    "plt.title(\"Gráfico 03\", fontsize = 16)\n",
    "x = np.arange(1, 10, 0.2)\n",
    "y = np.log(x)\n",
    "plt.subplot(2, 2, 4)\n",
    "plt.plot(x,y)\n",
    "plt.title(\"Gráfico 04\", fontsize = 16)\n",
    "plt.suptitle(\"Gráficos\", fontsize = 20)\n",
    "plt.subplots_adjust(left=0.125, bottom=0.1, right=0.9, top=0.9, wspace=0.2, hspace=0.35)\n",
    "plt.show()"
   ]
  }
 ],
 "metadata": {
  "kernelspec": {
   "display_name": "Python 3 (ipykernel)",
   "language": "python",
   "name": "python3"
  },
  "language_info": {
   "codemirror_mode": {
    "name": "ipython",
    "version": 3
   },
   "file_extension": ".py",
   "mimetype": "text/x-python",
   "name": "python",
   "nbconvert_exporter": "python",
   "pygments_lexer": "ipython3",
   "version": "3.11.5"
  }
 },
 "nbformat": 4,
 "nbformat_minor": 5
}
